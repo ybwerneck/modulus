{
 "cells": [
  {
   "cell_type": "code",
   "execution_count": 1,
   "id": "28391227-7b25-4080-a670-584a1d421101",
   "metadata": {
    "execution": {
     "iopub.execute_input": "2023-01-18T01:51:27.431899Z",
     "iopub.status.busy": "2023-01-18T01:51:27.431557Z",
     "iopub.status.idle": "2023-01-18T01:51:27.445054Z",
     "shell.execute_reply": "2023-01-18T01:51:27.444404Z",
     "shell.execute_reply.started": "2023-01-18T01:51:27.431818Z"
    },
    "tags": []
   },
   "outputs": [
    {
     "name": "stdout",
     "output_type": "stream",
     "text": [
      "Overwriting conf/config.yaml\n"
     ]
    }
   ],
   "source": [
    "%%writefile conf/config.yaml\n",
    "defaults :\n",
    "  - modulus_default\n",
    "  - arch:\n",
    "      - fully_connected\n",
    "  - scheduler: tf_exponential_lr\n",
    "  - optimizer: adam\n",
    "  - loss: sum\n",
    "  - _self_\n",
    "\n",
    "save_filetypes : \"vtk,npz\"\n",
    "\n",
    "scheduler:\n",
    "  decay_rate: 0.95\n",
    "  decay_steps: 100\n",
    "\n",
    "training:\n",
    "  rec_results_freq: 1000\n",
    "  max_steps: 10000\n",
    "\n",
    "batch_size:\n",
    "  IC: 1000\n",
    "  interior: 2000\n",
    "    "
   ]
  },
  {
   "cell_type": "code",
   "execution_count": null,
   "id": "12aa46a6-e84a-475c-a68b-ba58135cc55d",
   "metadata": {
    "tags": []
   },
   "outputs": [],
   "source": []
  },
  {
   "cell_type": "code",
   "execution_count": 6,
   "id": "0123240d-382f-4848-bbd1-83b804e4d626",
   "metadata": {
    "execution": {
     "iopub.execute_input": "2023-01-18T01:52:05.091915Z",
     "iopub.status.busy": "2023-01-18T01:52:05.091330Z",
     "iopub.status.idle": "2023-01-18T01:52:05.097177Z",
     "shell.execute_reply": "2023-01-18T01:52:05.096593Z",
     "shell.execute_reply.started": "2023-01-18T01:52:05.091887Z"
    },
    "tags": []
   },
   "outputs": [
    {
     "name": "stdout",
     "output_type": "stream",
     "text": [
      "Overwriting fhnModulus.py\n"
     ]
    }
   ],
   "source": [
    "%%writefile fhnModulus.py\n",
    "\n",
    "from sympy import Symbol, Eq\n",
    "from sympy import Symbol, Function, Number\n",
    "from modulus.eq.pde import PDE\n",
    "import numpy as np\n",
    "import matplotlib.pyplot as plt\n",
    "from scipy import interpolate\n",
    "import modulus\n",
    "from modulus.hydra import instantiate_arch, ModulusConfig\n",
    "from modulus.solver import Solver\n",
    "from modulus.domain import Domain\n",
    "from modulus.geometry.primitives_1d import Point1D\n",
    "from modulus.domain.constraint import (\n",
    "    PointwiseBoundaryConstraint,\n",
    "    PointwiseBoundaryConstraint,\n",
    ")\n",
    "from modulus.domain.validator import PointwiseValidator\n",
    "from modulus.key import Key\n",
    "from modulus.node import Node\n",
    "from modulus.eq.pde import PDE\n",
    "\n",
    "\n",
    "def generateExactSolution(t,dt,x0):\n",
    "    \n",
    "    n=int(t/dt)\n",
    "    Sol=np.zeros(n)\n",
    "    Sol[0]=x0\n",
    "    T=0\n",
    "    k=0\n",
    "    while(k<n-1):\n",
    "        x=Sol[k]\n",
    "        Sol[k+1]=x*(x)*(1-x)*dt +  x\n",
    "        T=T+dt\n",
    "        k=k+1\n",
    "    return Sol\n",
    "\n",
    "class SpringMass(PDE):\n",
    "    name = \"SpringMass\"\n",
    "\n",
    "    def __init__(self):\n",
    "\n",
    "      \n",
    "     \n",
    "\n",
    "        t = Symbol(\"t\")\n",
    "        a = Symbol(\"a\")\n",
    "        input_variables = {\"t\": t,\"a\":a}\n",
    "\n",
    "        x1 = Function(\"x1\")(*input_variables)\n",
    "\n",
    "\n",
    "\n",
    "        self.equations = {}\n",
    "        self.equations[\"ode_x1\"] = x1*(1-x1)*(x1) - a * x1.diff(t)\n",
    "\n",
    "                                    \n",
    "                                    \n",
    "        \n",
    "@modulus.main(config_path=\"conf\", config_name=\"config\")\n",
    "def run(cfg: ModulusConfig) -> None:\n",
    "    x0=0.7\n",
    "    c1=1/x0 -1\n",
    "    # make list of nodes to unroll graph on\n",
    "    sm = SpringMass()\n",
    "    sm_net = instantiate_arch(\n",
    "        input_keys=[Key(\"t\")],\n",
    "        output_keys=[Key(\"x1\")],\n",
    "        cfg=cfg.arch.fully_connected,\n",
    "    )\n",
    "    nodes = sm.make_nodes() + [\n",
    "        sm_net.make_node(name=\"spring_mass_network\")\n",
    "    ]\n",
    "\n",
    "   \n",
    "    # add constraints to solver\n",
    "    # make geometry\n",
    "    geo = Point1D(0)\n",
    "\n",
    "    x = Symbol(\"x1\")\n",
    "    \n",
    "    t_max = 10.0\n",
    "    t_symbol = Symbol(\"t\")\n",
    "    time_range = {t_symbol: (0, t_max)}\n",
    "\n",
    "    a_max = 1.0\n",
    "    a_symbol = Symbol(\"a\")\n",
    "    a_range = {t_symbol: (0.1, a_max)}\n",
    "\n",
    "    # make domain\n",
    "    domain = Domain()\n",
    "\n",
    "    # initial conditions\n",
    "    IC = PointwiseBoundaryConstraint(\n",
    "        nodes=nodes,\n",
    "        geometry=geo,\n",
    "        outvar={\"x1\": x0},\n",
    "        batch_size=cfg.batch_size.IC,\n",
    "        lambda_weighting={\n",
    "            \"x1\": 1.0,\n",
    "\n",
    "\n",
    "        },\n",
    "        parameterization={t_symbol: 0},\n",
    "    )\n",
    "    domain.add_constraint(IC, name=\"IC\")\n",
    "\n",
    "    \n",
    "    \n",
    "    # solve over given time period\n",
    "    interior = PointwiseBoundaryConstraint(\n",
    "        nodes=nodes,\n",
    "        geometry=geo,\n",
    "        outvar={\"ode_x1\": 0.0},\n",
    "        batch_size=cfg.batch_size.interior,\n",
    "        parameterization=time_range,\n",
    "    )\n",
    "    domain.add_constraint(interior, \"interior\")\n",
    "\n",
    "    # add validation data\n",
    "    deltaT = 0.001\n",
    "    t = np.arange(0, t_max, deltaT)\n",
    "    t = np.expand_dims(t, axis=-1)\n",
    "    Sol=generateExactSolution(t_max,deltaT,x0)\n",
    "    sol = interpolate.interp1d([deltaT*i for i in range( int(t_max/deltaT))],Sol) \n",
    "    \n",
    "    invar_numpy = {\"t\": t}\n",
    "    outvar_numpy = {\n",
    "        \"x1\": Sol\n",
    "    }\n",
    "    validator = PointwiseValidator(\n",
    "        nodes=nodes, invar=invar_numpy, true_outvar=outvar_numpy, batch_size=1024\n",
    "    )\n",
    "    domain.add_validator(validator)\n",
    "\n",
    "    # make solver\n",
    "    slv = Solver(cfg, domain)\n",
    "\n",
    "    # start solver\n",
    "    slv.solve()\n",
    "\n",
    "\n",
    "if __name__ == \"__main__\":\n",
    "    run()\n"
   ]
  },
  {
   "cell_type": "code",
   "execution_count": 7,
   "id": "41c040c0-2585-4135-a686-b9719ab67fc6",
   "metadata": {
    "execution": {
     "iopub.execute_input": "2023-01-18T01:52:07.346763Z",
     "iopub.status.busy": "2023-01-18T01:52:07.346375Z",
     "iopub.status.idle": "2023-01-18T01:52:16.013027Z",
     "shell.execute_reply": "2023-01-18T01:52:16.012189Z",
     "shell.execute_reply.started": "2023-01-18T01:52:07.346738Z"
    },
    "tags": []
   },
   "outputs": [
    {
     "name": "stdout",
     "output_type": "stream",
     "text": [
      "[01:52:12] - JIT using the NVFuser TorchScript backend\n",
      "[01:52:12] - JitManager: {'_enabled': True, '_arch_mode': <JitArchMode.ONLY_ACTIVATION: 1>, '_use_nvfuser': True, '_autograd_nodes': False}\n",
      "[01:52:12] - GraphManager: {'_func_arch': False, '_debug': False, '_func_arch_allow_partial_hessian': True}\n",
      "####################################\n",
      "could not unroll graph!\n",
      "This is probably because you are asking to compute a value that is not an output of any node\n",
      "####################################\n",
      "invar: [x, normal_x, area, t]\n",
      "requested var: [ode_x1]\n",
      "computable var: [x, normal_x, area, t, x1]\n",
      "####################################\n",
      "Nodes in graph: \n",
      "node: Sympy Node: ode_x1\n",
      "evaluate: SympyToTorch\n",
      "inputs: [a, x1]\n",
      "derivatives: [x1__t]\n",
      "outputs: [ode_x1]\n",
      "optimize: False\n",
      "node: Arch Node: spring_mass_network\n",
      "evaluate: FullyConnectedArch\n",
      "inputs: [t]\n",
      "derivatives: []\n",
      "outputs: [x1]\n",
      "optimize: True\n",
      "####################################\n",
      "Error executing job with overrides: []\n",
      "Traceback (most recent call last):\n",
      "  File \"/home/jovyan/t/fhnModulus.py\", line 110, in run\n",
      "    interior = PointwiseBoundaryConstraint(\n",
      "  File \"/opt/saturncloud/envs/saturn/lib/python3.9/site-packages/modulus-22.9-py3.9.egg/modulus/domain/constraint/continuous.py\", line 335, in __init__\n",
      "    super().__init__(\n",
      "  File \"/opt/saturncloud/envs/saturn/lib/python3.9/site-packages/modulus-22.9-py3.9.egg/modulus/domain/constraint/constraint.py\", line 55, in __init__\n",
      "    self.model = Graph(\n",
      "  File \"/opt/saturncloud/envs/saturn/lib/python3.9/site-packages/modulus-22.9-py3.9.egg/modulus/graph.py\", line 94, in __init__\n",
      "    raise RuntimeError(\"Failed Unrolling Graph\")\n",
      "RuntimeError: Failed Unrolling Graph\n",
      "\n",
      "Set the environment variable HYDRA_FULL_ERROR=1 for a complete stack trace.\n"
     ]
    }
   ],
   "source": [
    "!rm -r outputs || true ##se não limpar o output ele aproveita o treinamento, mesmo se mudar o modelo\n",
    "!python fhnModulus.py"
   ]
  },
  {
   "cell_type": "code",
   "execution_count": 4,
   "id": "94ab5b4c-2930-4c71-8c1f-83b019197e5b",
   "metadata": {
    "execution": {
     "iopub.execute_input": "2023-01-18T01:51:36.117201Z",
     "iopub.status.busy": "2023-01-18T01:51:36.116884Z",
     "iopub.status.idle": "2023-01-18T01:51:37.409985Z",
     "shell.execute_reply": "2023-01-18T01:51:37.408834Z",
     "shell.execute_reply.started": "2023-01-18T01:51:36.117176Z"
    },
    "tags": []
   },
   "outputs": [
    {
     "ename": "FileNotFoundError",
     "evalue": "[Errno 2] No such file or directory: 'outputs/fhnModulus/validators/validator.npz'",
     "output_type": "error",
     "traceback": [
      "\u001b[0;31m---------------------------------------------------------------------------\u001b[0m",
      "\u001b[0;31mFileNotFoundError\u001b[0m                         Traceback (most recent call last)",
      "Cell \u001b[0;32mIn [4], line 7\u001b[0m\n\u001b[1;32m      4\u001b[0m base_dir \u001b[38;5;241m=\u001b[39m \u001b[38;5;124m\"\u001b[39m\u001b[38;5;124moutputs/fhnModulus/validators/\u001b[39m\u001b[38;5;124m\"\u001b[39m\n\u001b[1;32m      6\u001b[0m \u001b[38;5;66;03m# plot in 1d\u001b[39;00m\n\u001b[0;32m----> 7\u001b[0m data \u001b[38;5;241m=\u001b[39m np\u001b[38;5;241m.\u001b[39mload(base_dir \u001b[38;5;241m+\u001b[39m \u001b[38;5;124m\"\u001b[39m\u001b[38;5;124mvalidator.npz\u001b[39m\u001b[38;5;124m\"\u001b[39m, allow_pickle\u001b[38;5;241m=\u001b[39m\u001b[38;5;28;01mTrue\u001b[39;00m)\n\u001b[1;32m      8\u001b[0m data \u001b[38;5;241m=\u001b[39m np\u001b[38;5;241m.\u001b[39matleast_1d(data\u001b[38;5;241m.\u001b[39mf\u001b[38;5;241m.\u001b[39marr_0)[\u001b[38;5;241m0\u001b[39m]\n\u001b[1;32m     10\u001b[0m plt\u001b[38;5;241m.\u001b[39mplot(data[\u001b[38;5;124m\"\u001b[39m\u001b[38;5;124mt\u001b[39m\u001b[38;5;124m\"\u001b[39m], data[\u001b[38;5;124m\"\u001b[39m\u001b[38;5;124mtrue_x1\u001b[39m\u001b[38;5;124m\"\u001b[39m], label\u001b[38;5;241m=\u001b[39m\u001b[38;5;124m\"\u001b[39m\u001b[38;5;124mTrue x1\u001b[39m\u001b[38;5;124m\"\u001b[39m)\n",
      "File \u001b[0;32m/opt/saturncloud/envs/saturn/lib/python3.9/site-packages/numpy/lib/npyio.py:417\u001b[0m, in \u001b[0;36mload\u001b[0;34m(file, mmap_mode, allow_pickle, fix_imports, encoding)\u001b[0m\n\u001b[1;32m    415\u001b[0m     own_fid \u001b[38;5;241m=\u001b[39m \u001b[38;5;28;01mFalse\u001b[39;00m\n\u001b[1;32m    416\u001b[0m \u001b[38;5;28;01melse\u001b[39;00m:\n\u001b[0;32m--> 417\u001b[0m     fid \u001b[38;5;241m=\u001b[39m stack\u001b[38;5;241m.\u001b[39menter_context(\u001b[38;5;28;43mopen\u001b[39;49m\u001b[43m(\u001b[49m\u001b[43mos_fspath\u001b[49m\u001b[43m(\u001b[49m\u001b[43mfile\u001b[49m\u001b[43m)\u001b[49m\u001b[43m,\u001b[49m\u001b[43m \u001b[49m\u001b[38;5;124;43m\"\u001b[39;49m\u001b[38;5;124;43mrb\u001b[39;49m\u001b[38;5;124;43m\"\u001b[39;49m\u001b[43m)\u001b[49m)\n\u001b[1;32m    418\u001b[0m     own_fid \u001b[38;5;241m=\u001b[39m \u001b[38;5;28;01mTrue\u001b[39;00m\n\u001b[1;32m    420\u001b[0m \u001b[38;5;66;03m# Code to distinguish from NumPy binary files and pickles.\u001b[39;00m\n",
      "\u001b[0;31mFileNotFoundError\u001b[0m: [Errno 2] No such file or directory: 'outputs/fhnModulus/validators/validator.npz'"
     ]
    }
   ],
   "source": [
    "import numpy as np\n",
    "import matplotlib.pyplot as plt\n",
    "\n",
    "base_dir = \"outputs/fhnModulus/validators/\"\n",
    "\n",
    "# plot in 1d\n",
    "data = np.load(base_dir + \"validator.npz\", allow_pickle=True)\n",
    "data = np.atleast_1d(data.f.arr_0)[0]\n",
    "\n",
    "plt.plot(data[\"t\"], data[\"true_x1\"], label=\"True x1\")\n",
    "\n",
    "plt.plot(data[\"t\"], data[\"pred_x1\"], label=\"Pred x1\")\n",
    "\n",
    "plt.legend()\n",
    "plt.savefig(\"comparison.png\")\n",
    "\n"
   ]
  },
  {
   "cell_type": "code",
   "execution_count": null,
   "id": "ba7a4164-bbf2-4226-b9a8-9b4a47e67cfc",
   "metadata": {},
   "outputs": [],
   "source": []
  },
  {
   "cell_type": "code",
   "execution_count": null,
   "id": "01d47304-3202-4627-9ef6-d9412ef84342",
   "metadata": {},
   "outputs": [],
   "source": []
  }
 ],
 "metadata": {
  "kernelspec": {
   "display_name": "saturn (Python 3)",
   "language": "python",
   "name": "python3"
  },
  "language_info": {
   "codemirror_mode": {
    "name": "ipython",
    "version": 3
   },
   "file_extension": ".py",
   "mimetype": "text/x-python",
   "name": "python",
   "nbconvert_exporter": "python",
   "pygments_lexer": "ipython3",
   "version": "3.9.13"
  }
 },
 "nbformat": 4,
 "nbformat_minor": 5
}
