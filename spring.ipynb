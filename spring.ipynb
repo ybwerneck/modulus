{
 "cells": [
  {
   "cell_type": "code",
   "execution_count": 1,
   "id": "28391227-7b25-4080-a670-584a1d421101",
   "metadata": {
    "execution": {
     "iopub.execute_input": "2023-01-13T14:39:48.555511Z",
     "iopub.status.busy": "2023-01-13T14:39:48.555285Z",
     "iopub.status.idle": "2023-01-13T14:39:48.564627Z",
     "shell.execute_reply": "2023-01-13T14:39:48.563846Z",
     "shell.execute_reply.started": "2023-01-13T14:39:48.555458Z"
    },
    "tags": []
   },
   "outputs": [
    {
     "name": "stdout",
     "output_type": "stream",
     "text": [
      "Overwriting conf/config.yaml\n"
     ]
    }
   ],
   "source": [
    "%%writefile conf/config.yaml\n",
    "defaults :\n",
    "  - modulus_default\n",
    "  - arch:\n",
    "      - fully_connected\n",
    "  - scheduler: tf_exponential_lr\n",
    "  - optimizer: adam\n",
    "  - loss: sum\n",
    "  - _self_\n",
    "\n",
    "save_filetypes : \"vtk,npz\"\n",
    "\n",
    "scheduler:\n",
    "  decay_rate: 0.95\n",
    "  decay_steps: 100\n",
    "\n",
    "training:\n",
    "  rec_results_freq: 1000\n",
    "  max_steps: 1000\n",
    "\n",
    "batch_size:\n",
    "  IC: 100\n",
    "  interior: 2000\n",
    "    "
   ]
  },
  {
   "cell_type": "code",
   "execution_count": null,
   "id": "12aa46a6-e84a-475c-a68b-ba58135cc55d",
   "metadata": {
    "tags": []
   },
   "outputs": [],
   "source": []
  },
  {
   "cell_type": "code",
   "execution_count": 2,
   "id": "0123240d-382f-4848-bbd1-83b804e4d626",
   "metadata": {
    "execution": {
     "iopub.execute_input": "2023-01-13T14:39:48.739901Z",
     "iopub.status.busy": "2023-01-13T14:39:48.739531Z",
     "iopub.status.idle": "2023-01-13T14:39:48.745251Z",
     "shell.execute_reply": "2023-01-13T14:39:48.744568Z",
     "shell.execute_reply.started": "2023-01-13T14:39:48.739877Z"
    },
    "tags": []
   },
   "outputs": [
    {
     "name": "stdout",
     "output_type": "stream",
     "text": [
      "Overwriting fhnModulus.py\n"
     ]
    }
   ],
   "source": [
    "%%writefile fhnModulus.py\n",
    "\n",
    "from sympy import Symbol, Eq\n",
    "from sympy import Symbol, Function, Number\n",
    "from modulus.eq.pde import PDE\n",
    "import numpy as np\n",
    "import matplotlib.pyplot as plt\n",
    "from scipy import interpolate\n",
    "import modulus\n",
    "from modulus.hydra import instantiate_arch, ModulusConfig\n",
    "from modulus.solver import Solver\n",
    "from modulus.domain import Domain\n",
    "from modulus.geometry.primitives_1d import Point1D\n",
    "from modulus.domain.constraint import (\n",
    "    PointwiseBoundaryConstraint,\n",
    "    PointwiseBoundaryConstraint,\n",
    ")\n",
    "from modulus.domain.validator import PointwiseValidator\n",
    "from modulus.key import Key\n",
    "from modulus.node import Node\n",
    "from modulus.eq.pde import PDE\n",
    "\n",
    "class SpringMass(PDE):\n",
    "    name = \"SpringMass\"\n",
    "\n",
    "    def __init__(self,m ,K):\n",
    "\n",
    "        self.K = K\n",
    "        self.m = m\n",
    "\n",
    "     \n",
    "\n",
    "        t = Symbol(\"t\")\n",
    "        input_variables = {\"t\": t}\n",
    "\n",
    "        x1 = Function(\"x1\")(*input_variables)\n",
    "\n",
    "\n",
    "\n",
    "        self.equations = {}\n",
    "        self.equations[\"ode_x1\"] = m * (x1.diff(t)).diff(t)  + K * x1 \n",
    "\n",
    "\n",
    "        \n",
    "@modulus.main(config_path=\"conf\", config_name=\"config\")\n",
    "def run(cfg: ModulusConfig) -> None:\n",
    "    x0,v0,K,m=0,1,1,1\n",
    "    F=(K/m)**(0.5)\n",
    "    # make list of nodes to unroll graph on\n",
    "    sm = SpringMass(m,K)\n",
    "    sm_net = instantiate_arch(\n",
    "        input_keys=[Key(\"t\")],\n",
    "        output_keys=[Key(\"x1\"), Key(\"x2\"), Key(\"x3\")],\n",
    "        cfg=cfg.arch.fully_connected,\n",
    "    )\n",
    "    nodes = sm.make_nodes() + [\n",
    "        sm_net.make_node(name=\"spring_mass_network\")\n",
    "    ]\n",
    "\n",
    "   \n",
    "    # add constraints to solver\n",
    "    # make geometry\n",
    "    geo = Point1D(0)\n",
    "    t_max = 10.0\n",
    "    t_symbol = Symbol(\"t\")\n",
    "    x = Symbol(\"x\")\n",
    "    time_range = {t_symbol: (0, t_max)}\n",
    "\n",
    "    # make domain\n",
    "    domain = Domain()\n",
    "\n",
    "    # initial conditions\n",
    "    IC = PointwiseBoundaryConstraint(\n",
    "        nodes=nodes,\n",
    "        geometry=geo,\n",
    "        outvar={\"x1\": x0, \"x1__t\": v0},\n",
    "        batch_size=cfg.batch_size.IC,\n",
    "        lambda_weighting={\n",
    "            \"x1\": 1.0,\n",
    "            \"x1__t\": 1.0,\n",
    "\n",
    "        },\n",
    "        parameterization={t_symbol: 0},\n",
    "    )\n",
    "    domain.add_constraint(IC, name=\"IC\")\n",
    "\n",
    "    # solve over given time period\n",
    "    interior = PointwiseBoundaryConstraint(\n",
    "        nodes=nodes,\n",
    "        geometry=geo,\n",
    "        outvar={\"ode_x1\": 0.0},\n",
    "        batch_size=cfg.batch_size.interior,\n",
    "        parameterization=time_range,\n",
    "    )\n",
    "    domain.add_constraint(interior, \"interior\")\n",
    "\n",
    "    # add validation data\n",
    "    deltaT = 0.001\n",
    "    t = np.arange(0, t_max, deltaT)\n",
    "    t = np.expand_dims(t, axis=-1)\n",
    "    invar_numpy = {\"t\": t}\n",
    "    outvar_numpy = {\n",
    "        \"x1\":x0*np.cos(F*t) + (v0/F)*np.sin(F*t)\n",
    "    }\n",
    "    validator = PointwiseValidator(\n",
    "        nodes=nodes, invar=invar_numpy, true_outvar=outvar_numpy, batch_size=1024\n",
    "    )\n",
    "    domain.add_validator(validator)\n",
    "\n",
    "    # make solver\n",
    "    slv = Solver(cfg, domain)\n",
    "\n",
    "    # start solver\n",
    "    slv.solve()\n",
    "\n",
    "\n",
    "if __name__ == \"__main__\":\n",
    "    run()\n"
   ]
  },
  {
   "cell_type": "code",
   "execution_count": 3,
   "id": "41c040c0-2585-4135-a686-b9719ab67fc6",
   "metadata": {
    "execution": {
     "iopub.execute_input": "2023-01-13T14:39:48.746826Z",
     "iopub.status.busy": "2023-01-13T14:39:48.746492Z",
     "iopub.status.idle": "2023-01-13T14:40:35.186486Z",
     "shell.execute_reply": "2023-01-13T14:40:35.185746Z",
     "shell.execute_reply.started": "2023-01-13T14:39:48.746806Z"
    },
    "tags": []
   },
   "outputs": [
    {
     "name": "stdout",
     "output_type": "stream",
     "text": [
      "[14:39:54] - JIT using the NVFuser TorchScript backend\n",
      "[14:39:54] - JitManager: {'_enabled': True, '_arch_mode': <JitArchMode.ONLY_ACTIVATION: 1>, '_use_nvfuser': True, '_autograd_nodes': False}\n",
      "[14:39:54] - GraphManager: {'_func_arch': False, '_debug': False, '_func_arch_allow_partial_hessian': True}\n",
      "[14:39:56] - Installed PyTorch version 1.13.1+cu117 is not TorchScript supported in Modulus. Version 1.13.0a0+d321be6 is officially supported.\n",
      "[14:39:56] - attempting to restore from: outputs/fhnModulus\n",
      "[14:39:56] - optimizer checkpoint not found\n",
      "[14:39:56] - model spring_mass_network.0.pth not found\n",
      "[14:39:58] - [step:          0] record constraint batch time:  7.921e-01s\n",
      "[14:39:58] - [step:          0] record validators time:  2.617e-01s\n",
      "[14:39:58] - [step:          0] saved checkpoint to outputs/fhnModulus\n",
      "[14:39:58] - [step:          0] loss:  2.813e+00\n",
      "[14:40:03] - Attempting cuda graph building, this may take a bit...\n",
      "[14:40:05] - [step:        100] loss:  2.322e-02, time/iteration:  7.556e+01 ms\n",
      "[14:40:08] - [step:        200] loss:  1.347e-02, time/iteration:  3.077e+01 ms\n",
      "[14:40:12] - [step:        300] loss:  7.626e-03, time/iteration:  3.085e+01 ms\n",
      "[14:40:15] - [step:        400] loss:  3.466e-03, time/iteration:  3.079e+01 ms\n",
      "[14:40:18] - [step:        500] loss:  1.597e-03, time/iteration:  3.099e+01 ms\n",
      "[14:40:21] - [step:        600] loss:  5.992e-04, time/iteration:  3.107e+01 ms\n",
      "[14:40:24] - [step:        700] loss:  9.854e-05, time/iteration:  3.091e+01 ms\n",
      "[14:40:27] - [step:        800] loss:  1.043e-04, time/iteration:  3.108e+01 ms\n",
      "[14:40:30] - [step:        900] loss:  2.774e-05, time/iteration:  3.146e+01 ms\n",
      "[14:40:34] - [step:       1000] record constraint batch time:  2.778e-02s\n",
      "[14:40:34] - [step:       1000] record validators time:  3.149e-02s\n",
      "[14:40:34] - [step:       1000] saved checkpoint to outputs/fhnModulus\n",
      "[14:40:34] - [step:       1000] loss:  2.872e-05, time/iteration:  3.568e+01 ms\n",
      "[14:40:34] - [step:       1000] reached maximum training steps, finished training!\n"
     ]
    }
   ],
   "source": [
    "!rm -r outputs || true ##se não limpar o output ele aproveita o treinamento, mesmo se mudar o modelo\n",
    "!python fhnModulus.py"
   ]
  },
  {
   "cell_type": "code",
   "execution_count": 4,
   "id": "94ab5b4c-2930-4c71-8c1f-83b019197e5b",
   "metadata": {
    "execution": {
     "iopub.execute_input": "2023-01-13T14:40:35.187954Z",
     "iopub.status.busy": "2023-01-13T14:40:35.187628Z",
     "iopub.status.idle": "2023-01-13T14:40:36.036045Z",
     "shell.execute_reply": "2023-01-13T14:40:36.035334Z",
     "shell.execute_reply.started": "2023-01-13T14:40:35.187928Z"
    },
    "tags": []
   },
   "outputs": [
    {
     "data": {
      "image/png": "[encoded data removed]",
      "text/plain": [
       "<Figure size 640x480 with 1 Axes>"
      ]
     },
     "metadata": {},
     "output_type": "display_data"
    }
   ],
   "source": [
    "import numpy as np\n",
    "import matplotlib.pyplot as plt\n",
    "\n",
    "base_dir = \"outputs/fhnModulus/validators/\"\n",
    "\n",
    "# plot in 1d\n",
    "data = np.load(base_dir + \"validator.npz\", allow_pickle=True)\n",
    "data = np.atleast_1d(data.f.arr_0)[0]\n",
    "\n",
    "plt.plot(data[\"t\"], data[\"true_x1\"], label=\"True x1\")\n",
    "\n",
    "plt.plot(data[\"t\"], data[\"pred_x1\"], label=\"Pred x1\")\n",
    "\n",
    "plt.legend()\n",
    "plt.savefig(\"comparison.png\")\n",
    "\n"
   ]
  },
  {
   "cell_type": "code",
   "execution_count": null,
   "id": "ba7a4164-bbf2-4226-b9a8-9b4a47e67cfc",
   "metadata": {},
   "outputs": [],
   "source": []
  },
  {
   "cell_type": "code",
   "execution_count": null,
   "id": "01d47304-3202-4627-9ef6-d9412ef84342",
   "metadata": {},
   "outputs": [],
   "source": []
  }
 ],
 "metadata": {
  "kernelspec": {
   "display_name": "saturn (Python 3)",
   "language": "python",
   "name": "python3"
  },
  "language_info": {
   "codemirror_mode": {
    "name": "ipython",
    "version": 3
   },
   "file_extension": ".py",
   "mimetype": "text/x-python",
   "name": "python",
   "nbconvert_exporter": "python",
   "pygments_lexer": "ipython3",
   "version": "3.9.13"
  }
 },
 "nbformat": 4,
 "nbformat_minor": 5
}
